{
  "nbformat": 4,
  "nbformat_minor": 0,
  "metadata": {
    "colab": {
      "name": "visual_ordering.ipynb",
      "provenance": [],
      "collapsed_sections": [],
      "authorship_tag": "ABX9TyPthksoV1EvFnmJiRMqnOrB",
      "include_colab_link": true
    },
    "kernelspec": {
      "name": "python3",
      "display_name": "Python 3"
    }
  },
  "cells": [
    {
      "cell_type": "markdown",
      "metadata": {
        "id": "view-in-github",
        "colab_type": "text"
      },
      "source": [
        "<a href=\"https://colab.research.google.com/github/imbalzy/RecipeQA-FInal-Project-2470/blob/main/visual_ordering.ipynb\" target=\"_parent\"><img src=\"https://colab.research.google.com/assets/colab-badge.svg\" alt=\"Open In Colab\"/></a>"
      ]
    },
    {
      "cell_type": "code",
      "metadata": {
        "colab": {
          "base_uri": "https://localhost:8080/"
        },
        "id": "cPoK-Ir4nAfZ",
        "outputId": "85de1337-227e-421d-aa78-8673fa699cc5"
      },
      "source": [
        "from google.colab import drive\r\n",
        "drive.mount('/content/gdrive')\r\n",
        "import os\r\n",
        "os.environ['KAGGLE_CONFIG_DIR'] = \"/content\"\r\n",
        "!cp \"/content/gdrive/My Drive/Kaggle/kaggle.json\" ."
      ],
      "execution_count": 1,
      "outputs": [
        {
          "output_type": "stream",
          "text": [
            "Drive already mounted at /content/gdrive; to attempt to forcibly remount, call drive.mount(\"/content/gdrive\", force_remount=True).\n"
          ],
          "name": "stdout"
        }
      ]
    },
    {
      "cell_type": "code",
      "metadata": {
        "colab": {
          "base_uri": "https://localhost:8080/"
        },
        "id": "W2Gb68udnGcs",
        "outputId": "6980e94d-50d8-42d9-e39b-4b3391047045"
      },
      "source": [
        "!kaggle datasets download -d jeromeblanchet/recipeqa-nlp-dataset\r\n",
        "!unzip recipeqa-nlp-dataset.zip -d data/ > /dev/null\r\n",
        "\r\n",
        "!wget http://nlp.stanford.edu/data/glove.6B.zip\r\n",
        "!unzip -q glove.6B.zip"
      ],
      "execution_count": 2,
      "outputs": [
        {
          "output_type": "stream",
          "text": [
            "recipeqa-nlp-dataset.zip: Skipping, found more recently modified local copy (use --force to force download)\n",
            "replace data/images/images-qa/test/images-qa/-homebrew-honey-beer-_1_2.jpg? [y]es, [n]o, [A]ll, [N]one, [r]ename: --2020-12-09 19:59:38--  http://nlp.stanford.edu/data/glove.6B.zip\n",
            "Resolving nlp.stanford.edu (nlp.stanford.edu)... 171.64.67.140\n",
            "Connecting to nlp.stanford.edu (nlp.stanford.edu)|171.64.67.140|:80... connected.\n",
            "HTTP request sent, awaiting response... 302 Found\n",
            "Location: https://nlp.stanford.edu/data/glove.6B.zip [following]\n",
            "--2020-12-09 19:59:39--  https://nlp.stanford.edu/data/glove.6B.zip\n",
            "Connecting to nlp.stanford.edu (nlp.stanford.edu)|171.64.67.140|:443... connected.\n",
            "HTTP request sent, awaiting response... 301 Moved Permanently\n",
            "Location: http://downloads.cs.stanford.edu/nlp/data/glove.6B.zip [following]\n",
            "--2020-12-09 19:59:39--  http://downloads.cs.stanford.edu/nlp/data/glove.6B.zip\n",
            "Resolving downloads.cs.stanford.edu (downloads.cs.stanford.edu)... 171.64.64.22\n",
            "Connecting to downloads.cs.stanford.edu (downloads.cs.stanford.edu)|171.64.64.22|:80... connected.\n",
            "HTTP request sent, awaiting response... 200 OK\n",
            "Length: 862182613 (822M) [application/zip]\n",
            "Saving to: ‘glove.6B.zip.1’\n",
            "\n",
            "glove.6B.zip.1        1%[                    ]  10.14M  2.80MB/s    eta 7m 56s ^C\n",
            "replace glove.6B.50d.txt? [y]es, [n]o, [A]ll, [N]one, [r]ename: N\n"
          ],
          "name": "stdout"
        }
      ]
    },
    {
      "cell_type": "code",
      "metadata": {
        "id": "dXjYra88nIAT"
      },
      "source": [
        "import numpy as np\r\n",
        "import tensorflow as tf\r\n",
        "from tensorflow import keras\r\n",
        "from preprocessrecipeqa import *\r\n",
        "import random"
      ],
      "execution_count": 3,
      "outputs": []
    },
    {
      "cell_type": "code",
      "metadata": {
        "id": "rNqXBYyMAH4p"
      },
      "source": [
        "batch_size = 16\r\n",
        "(train_iter1, train_iter2, train_iter3, train_iter4), (test_iter1, test_iter2, test_iter3, test_iter4), (val_iter1, val_iter2, val_iter3, val_iter4), embedding_index, word_index = preprocess(batch_size)\r\n",
        "l_embed = get_embedding_layer(word_index, embedding_index)\r\n"
      ],
      "execution_count": 4,
      "outputs": []
    },
    {
      "cell_type": "code",
      "metadata": {
        "id": "D0Vsl1-lXPyD"
      },
      "source": [
        "def define_model():\r\n",
        "  conv = keras.Sequential()\r\n",
        "  conv.add(keras.layers.Conv2D(filters = 64, kernel_size = 5, strides=(2, 2), padding='same'))\r\n",
        "  conv.add(keras.layers.Conv2D(filters = 64, kernel_size = 5, strides=(2, 2), padding='same'))\r\n",
        "  conv.add(keras.layers.Conv2D(filters = 64, kernel_size = 5, strides=(2, 2), padding='same'))\r\n",
        "  conv.add(keras.layers.Conv2D(filters = 64, kernel_size = 5, strides=(2, 2), padding='same'))\r\n",
        "  conv.add(keras.layers.Flatten())\r\n",
        "  conv.add(keras.layers.Dense(500))\r\n",
        "  inputs1 = keras.Input(shape=(224, 224, 3))\r\n",
        "  inputs2 = keras.Input(shape=(224, 224, 3))\r\n",
        "  inputs3 = keras.Input(shape=(224, 224, 3))\r\n",
        "  inputs4 = keras.Input(shape=(224, 224, 3))\r\n",
        "  concat = keras.layers.Concatenate()\r\n",
        "  x = concat([conv(inputs1),conv(inputs2),conv(inputs3),conv(inputs4)])\r\n",
        "  fc1 = keras.layers.Dense(500,activation = 'relu')\r\n",
        "  fc2 = keras.layers.Dense(500,activation = 'relu')\r\n",
        "  fc3 = keras.layers.Dense(500,activation = 'relu')\r\n",
        "  fc4 = keras.layers.Dense(2,activation = 'softmax')\r\n",
        "  outputs = fc4(fc3(fc2(fc1(x))))\r\n",
        "  model = tf.keras.Model(inputs=[inputs1,inputs2,inputs3,inputs4], outputs=outputs)\r\n",
        "  model.compile(loss=tf.keras.losses.SparseCategoricalCrossentropy(), optimizer='adam', metrics=['accuracy'])\r\n",
        "  return model\r\n",
        "model =define_model()"
      ],
      "execution_count": 5,
      "outputs": []
    },
    {
      "cell_type": "code",
      "metadata": {
        "colab": {
          "base_uri": "https://localhost:8080/"
        },
        "id": "E8ub0tNjAsjc",
        "outputId": "b1cc7c83-f230-4137-b4fa-1748ef7bb451"
      },
      "source": [
        "model.summary()"
      ],
      "execution_count": 6,
      "outputs": [
        {
          "output_type": "stream",
          "text": [
            "Model: \"functional_1\"\n",
            "__________________________________________________________________________________________________\n",
            "Layer (type)                    Output Shape         Param #     Connected to                     \n",
            "==================================================================================================\n",
            "input_1 (InputLayer)            [(None, 224, 224, 3) 0                                            \n",
            "__________________________________________________________________________________________________\n",
            "input_2 (InputLayer)            [(None, 224, 224, 3) 0                                            \n",
            "__________________________________________________________________________________________________\n",
            "input_3 (InputLayer)            [(None, 224, 224, 3) 0                                            \n",
            "__________________________________________________________________________________________________\n",
            "input_4 (InputLayer)            [(None, 224, 224, 3) 0                                            \n",
            "__________________________________________________________________________________________________\n",
            "sequential (Sequential)         (None, 500)          6584756     input_1[0][0]                    \n",
            "                                                                 input_2[0][0]                    \n",
            "                                                                 input_3[0][0]                    \n",
            "                                                                 input_4[0][0]                    \n",
            "__________________________________________________________________________________________________\n",
            "concatenate (Concatenate)       (None, 2000)         0           sequential[0][0]                 \n",
            "                                                                 sequential[1][0]                 \n",
            "                                                                 sequential[2][0]                 \n",
            "                                                                 sequential[3][0]                 \n",
            "__________________________________________________________________________________________________\n",
            "dense_1 (Dense)                 (None, 500)          1000500     concatenate[0][0]                \n",
            "__________________________________________________________________________________________________\n",
            "dense_2 (Dense)                 (None, 500)          250500      dense_1[0][0]                    \n",
            "__________________________________________________________________________________________________\n",
            "dense_3 (Dense)                 (None, 500)          250500      dense_2[0][0]                    \n",
            "__________________________________________________________________________________________________\n",
            "dense_4 (Dense)                 (None, 2)            1002        dense_3[0][0]                    \n",
            "==================================================================================================\n",
            "Total params: 8,087,258\n",
            "Trainable params: 8,087,258\n",
            "Non-trainable params: 0\n",
            "__________________________________________________________________________________________________\n"
          ],
          "name": "stdout"
        }
      ]
    },
    {
      "cell_type": "code",
      "metadata": {
        "colab": {
          "base_uri": "https://localhost:8080/",
          "height": 1000
        },
        "id": "1Jk6yckmGuV9",
        "outputId": "76aead08-7281-410e-a632-5b52f67f5d2d"
      },
      "source": [
        "labels=[1 if j%2==0 else 0 for j in range(batch_size*2)]\r\n",
        "labels=tf.convert_to_tensor(labels)\r\n",
        "for i, label in train_iter4:\r\n",
        "  inputs1=[]\r\n",
        "  inputs2=[]\r\n",
        "  inputs3=[]\r\n",
        "  inputs4=[]\r\n",
        "  for j in range(batch_size):\r\n",
        "    # print(i[0]['recipe_id'])\r\n",
        "    comb = [i[j]['image_list'][k] for k in i[j]['choice_list'][label[j]]]\r\n",
        "    inputs1.append(comb[0])\r\n",
        "    inputs2.append(comb[1])\r\n",
        "    inputs3.append(comb[2])\r\n",
        "    inputs4.append(comb[3])\r\n",
        "    if label[j]==0:\r\n",
        "      l=1\r\n",
        "    else:\r\n",
        "      l=0\r\n",
        "    comb = [i[j]['image_list'][k] for k in i[j]['choice_list'][l]]\r\n",
        "    inputs1.append(comb[0])\r\n",
        "    inputs2.append(comb[1])\r\n",
        "    inputs3.append(comb[2])\r\n",
        "    inputs4.append(comb[3])\r\n",
        "  inputs1 = tf.convert_to_tensor(inputs1)\r\n",
        "  inputs2 = tf.convert_to_tensor(inputs2)\r\n",
        "  inputs3 = tf.convert_to_tensor(inputs3)\r\n",
        "  inputs4 = tf.convert_to_tensor(inputs4)\r\n",
        "  print(model.train_on_batch([inputs1,inputs2,inputs3,inputs4],labels))\r\n",
        "  "
      ],
      "execution_count": 7,
      "outputs": [
        {
          "output_type": "stream",
          "text": [
            "[0.710526704788208, 0.5]\n",
            "[0.7005174160003662, 0.5625]\n",
            "[1.5322054624557495, 0.4375]\n",
            "[1.9218182563781738, 0.53125]\n",
            "[1.1580244302749634, 0.5]\n",
            "[1.125509262084961, 0.65625]\n",
            "[0.9253045320510864, 0.59375]\n",
            "[0.8254854679107666, 0.40625]\n",
            "[0.7173489332199097, 0.4375]\n",
            "[0.740043044090271, 0.5625]\n",
            "[1.0847491025924683, 0.5]\n",
            "[1.5643231868743896, 0.5]\n",
            "[0.7757695913314819, 0.59375]\n",
            "[0.9103328585624695, 0.5]\n",
            "[1.044370174407959, 0.46875]\n",
            "[1.0300631523132324, 0.53125]\n",
            "[0.727121114730835, 0.375]\n",
            "[0.915818452835083, 0.5]\n",
            "[0.7378081679344177, 0.5625]\n",
            "[0.8114617466926575, 0.4375]\n",
            "[1.0210657119750977, 0.46875]\n",
            "[2.295893907546997, 0.53125]\n",
            "[1.575046181678772, 0.46875]\n",
            "[0.7392062544822693, 0.59375]\n",
            "[0.861152172088623, 0.46875]\n",
            "[3.7279250621795654, 0.46875]\n",
            "[0.780994713306427, 0.40625]\n",
            "[0.6838462352752686, 0.5625]\n",
            "[0.7531671524047852, 0.4375]\n",
            "[0.8523226976394653, 0.5625]\n",
            "[0.6637786626815796, 0.65625]\n",
            "[0.699500322341919, 0.4375]\n",
            "[0.8307613730430603, 0.375]\n",
            "[0.8713847994804382, 0.46875]\n",
            "[0.738632082939148, 0.5]\n",
            "[0.7119013071060181, 0.5]\n",
            "[0.832309365272522, 0.40625]\n",
            "[0.7119432687759399, 0.53125]\n",
            "[0.7737662196159363, 0.46875]\n",
            "[0.7847938537597656, 0.4375]\n",
            "[0.7486326694488525, 0.53125]\n",
            "[0.7795644998550415, 0.5625]\n",
            "[0.7389849424362183, 0.5]\n",
            "[0.6844879984855652, 0.625]\n",
            "[0.7240714430809021, 0.40625]\n",
            "[0.6884841918945312, 0.53125]\n",
            "[0.692394495010376, 0.53125]\n",
            "[0.7277897000312805, 0.46875]\n",
            "[0.7476181983947754, 0.5]\n",
            "[0.7047842741012573, 0.5]\n",
            "[0.7668076753616333, 0.40625]\n",
            "[0.6989584565162659, 0.625]\n",
            "[0.8098544478416443, 0.46875]\n",
            "[0.73199462890625, 0.5]\n",
            "[0.6771154999732971, 0.625]\n",
            "[0.7046861052513123, 0.53125]\n",
            "[0.8382360935211182, 0.5]\n",
            "[0.7532662153244019, 0.40625]\n",
            "[0.7273893356323242, 0.4375]\n",
            "[0.7127753496170044, 0.4375]\n",
            "[0.9720538854598999, 0.46875]\n",
            "[0.7382767200469971, 0.46875]\n",
            "[0.6826504468917847, 0.5625]\n",
            "[0.7109782695770264, 0.4375]\n",
            "[0.7385649681091309, 0.5]\n",
            "[0.7450745105743408, 0.4375]\n",
            "[0.7195211052894592, 0.5625]\n",
            "[0.6857225894927979, 0.5]\n",
            "[0.7257810831069946, 0.5]\n",
            "[0.6741337776184082, 0.625]\n",
            "[0.7252362966537476, 0.5]\n",
            "[0.6965225338935852, 0.4375]\n",
            "[0.6938664317131042, 0.46875]\n",
            "[0.6840361952781677, 0.5625]\n",
            "[0.7917673587799072, 0.5625]\n",
            "[1.1908451318740845, 0.5]\n",
            "[0.7652437686920166, 0.4375]\n",
            "[0.8675061464309692, 0.5625]\n",
            "[0.7796341180801392, 0.5]\n",
            "[0.8776739835739136, 0.5625]\n",
            "[0.7623453736305237, 0.5]\n",
            "[0.7182388305664062, 0.46875]\n",
            "[0.7336238026618958, 0.5]\n",
            "[0.6980487108230591, 0.5]\n",
            "[0.7258350253105164, 0.46875]\n",
            "[0.9359436631202698, 0.5]\n",
            "[0.7434569001197815, 0.53125]\n",
            "[0.7500686049461365, 0.5]\n",
            "[0.6889965534210205, 0.53125]\n",
            "[0.7043144702911377, 0.46875]\n",
            "[0.7095420956611633, 0.5]\n",
            "[0.7072625160217285, 0.46875]\n",
            "[0.696932315826416, 0.53125]\n",
            "[0.708996057510376, 0.4375]\n",
            "[0.702348530292511, 0.40625]\n",
            "[0.7059720158576965, 0.5]\n",
            "[0.7046024799346924, 0.5]\n",
            "[0.7124650478363037, 0.46875]\n",
            "[0.698985755443573, 0.53125]\n",
            "[0.705492377281189, 0.5]\n",
            "[0.6924430131912231, 0.5625]\n",
            "[0.6907153725624084, 0.59375]\n",
            "[0.7012934684753418, 0.40625]\n",
            "[0.6978405714035034, 0.53125]\n",
            "[0.6935704946517944, 0.5]\n",
            "[0.6809951066970825, 0.625]\n",
            "[0.705045223236084, 0.46875]\n",
            "[0.7229392528533936, 0.40625]\n",
            "[0.6897892951965332, 0.53125]\n",
            "[0.690851628780365, 0.53125]\n",
            "[0.6932960748672485, 0.59375]\n",
            "[0.6874130964279175, 0.53125]\n",
            "[0.7083821296691895, 0.46875]\n",
            "[0.6747546195983887, 0.59375]\n",
            "[0.6917191743850708, 0.46875]\n",
            "[0.7011908292770386, 0.625]\n",
            "[0.7153322696685791, 0.5]\n",
            "[0.728149950504303, 0.375]\n",
            "[0.7089122533798218, 0.4375]\n",
            "[0.7159416675567627, 0.5]\n",
            "[0.7121953964233398, 0.375]\n",
            "[0.6925197839736938, 0.53125]\n",
            "[0.714714765548706, 0.40625]\n",
            "[0.7061133980751038, 0.4375]\n",
            "[0.6821589469909668, 0.625]\n",
            "[0.6944457292556763, 0.40625]\n",
            "[0.6785730719566345, 0.59375]\n",
            "[0.6957682371139526, 0.5]\n",
            "[0.6816319227218628, 0.59375]\n",
            "[0.7112692594528198, 0.40625]\n",
            "[0.6700011491775513, 0.6875]\n",
            "[0.6954253911972046, 0.46875]\n",
            "[0.6992526054382324, 0.59375]\n",
            "[0.6869359612464905, 0.53125]\n",
            "[0.6944260597229004, 0.5625]\n",
            "[0.6793653964996338, 0.5625]\n",
            "[0.683891236782074, 0.65625]\n",
            "[0.6586259603500366, 0.59375]\n",
            "[0.6704882383346558, 0.59375]\n",
            "[0.6465346217155457, 0.59375]\n",
            "[0.6985533237457275, 0.53125]\n",
            "[0.6811076998710632, 0.46875]\n",
            "[0.6984547972679138, 0.5625]\n",
            "[0.6902718544006348, 0.6875]\n",
            "[0.7321482300758362, 0.46875]\n",
            "[0.6183873414993286, 0.6875]\n",
            "[0.7062759399414062, 0.53125]\n",
            "[0.7171981334686279, 0.53125]\n",
            "[0.7333377599716187, 0.40625]\n",
            "[0.7067518830299377, 0.4375]\n",
            "[0.6508959531784058, 0.59375]\n",
            "[0.6652984023094177, 0.625]\n",
            "[0.7157249450683594, 0.4375]\n",
            "[0.6712000370025635, 0.5625]\n",
            "[0.6981990337371826, 0.375]\n",
            "[0.6990711688995361, 0.5]\n",
            "[0.7011744976043701, 0.5]\n",
            "[0.7014847993850708, 0.5625]\n",
            "[0.6776564121246338, 0.53125]\n",
            "[0.6994788646697998, 0.5]\n",
            "[0.6995501518249512, 0.53125]\n",
            "[0.6927790641784668, 0.40625]\n",
            "[0.6934794187545776, 0.59375]\n",
            "[0.7092119455337524, 0.53125]\n",
            "[0.7169874906539917, 0.4375]\n",
            "[0.6968830823898315, 0.5]\n",
            "[0.6868550777435303, 0.5]\n",
            "[0.6906492114067078, 0.53125]\n",
            "[0.7031246423721313, 0.5]\n",
            "[0.6727340221405029, 0.53125]\n",
            "[0.6979609131813049, 0.4375]\n",
            "[0.7020165920257568, 0.53125]\n",
            "[0.7030318379402161, 0.5]\n"
          ],
          "name": "stdout"
        },
        {
          "output_type": "error",
          "ename": "KeyboardInterrupt",
          "evalue": "ignored",
          "traceback": [
            "\u001b[0;31m---------------------------------------------------------------------------\u001b[0m",
            "\u001b[0;31mKeyboardInterrupt\u001b[0m                         Traceback (most recent call last)",
            "\u001b[0;32m<ipython-input-7-4793c0f923d5>\u001b[0m in \u001b[0;36m<module>\u001b[0;34m()\u001b[0m\n\u001b[1;32m     26\u001b[0m   \u001b[0minputs3\u001b[0m \u001b[0;34m=\u001b[0m \u001b[0mtf\u001b[0m\u001b[0;34m.\u001b[0m\u001b[0mconvert_to_tensor\u001b[0m\u001b[0;34m(\u001b[0m\u001b[0minputs3\u001b[0m\u001b[0;34m)\u001b[0m\u001b[0;34m\u001b[0m\u001b[0;34m\u001b[0m\u001b[0m\n\u001b[1;32m     27\u001b[0m   \u001b[0minputs4\u001b[0m \u001b[0;34m=\u001b[0m \u001b[0mtf\u001b[0m\u001b[0;34m.\u001b[0m\u001b[0mconvert_to_tensor\u001b[0m\u001b[0;34m(\u001b[0m\u001b[0minputs4\u001b[0m\u001b[0;34m)\u001b[0m\u001b[0;34m\u001b[0m\u001b[0;34m\u001b[0m\u001b[0m\n\u001b[0;32m---> 28\u001b[0;31m   \u001b[0mprint\u001b[0m\u001b[0;34m(\u001b[0m\u001b[0mmodel\u001b[0m\u001b[0;34m.\u001b[0m\u001b[0mtrain_on_batch\u001b[0m\u001b[0;34m(\u001b[0m\u001b[0;34m[\u001b[0m\u001b[0minputs1\u001b[0m\u001b[0;34m,\u001b[0m\u001b[0minputs2\u001b[0m\u001b[0;34m,\u001b[0m\u001b[0minputs3\u001b[0m\u001b[0;34m,\u001b[0m\u001b[0minputs4\u001b[0m\u001b[0;34m]\u001b[0m\u001b[0;34m,\u001b[0m\u001b[0mlabels\u001b[0m\u001b[0;34m)\u001b[0m\u001b[0;34m)\u001b[0m\u001b[0;34m\u001b[0m\u001b[0;34m\u001b[0m\u001b[0m\n\u001b[0m\u001b[1;32m     29\u001b[0m \u001b[0;34m\u001b[0m\u001b[0m\n",
            "\u001b[0;32m/usr/local/lib/python3.6/dist-packages/tensorflow/python/keras/engine/training.py\u001b[0m in \u001b[0;36mtrain_on_batch\u001b[0;34m(self, x, y, sample_weight, class_weight, reset_metrics, return_dict)\u001b[0m\n\u001b[1;32m   1693\u001b[0m                                                     class_weight)\n\u001b[1;32m   1694\u001b[0m       \u001b[0mtrain_function\u001b[0m \u001b[0;34m=\u001b[0m \u001b[0mself\u001b[0m\u001b[0;34m.\u001b[0m\u001b[0mmake_train_function\u001b[0m\u001b[0;34m(\u001b[0m\u001b[0;34m)\u001b[0m\u001b[0;34m\u001b[0m\u001b[0;34m\u001b[0m\u001b[0m\n\u001b[0;32m-> 1695\u001b[0;31m       \u001b[0mlogs\u001b[0m \u001b[0;34m=\u001b[0m \u001b[0mtrain_function\u001b[0m\u001b[0;34m(\u001b[0m\u001b[0miterator\u001b[0m\u001b[0;34m)\u001b[0m\u001b[0;34m\u001b[0m\u001b[0;34m\u001b[0m\u001b[0m\n\u001b[0m\u001b[1;32m   1696\u001b[0m \u001b[0;34m\u001b[0m\u001b[0m\n\u001b[1;32m   1697\u001b[0m     \u001b[0;32mif\u001b[0m \u001b[0mreset_metrics\u001b[0m\u001b[0;34m:\u001b[0m\u001b[0;34m\u001b[0m\u001b[0;34m\u001b[0m\u001b[0m\n",
            "\u001b[0;32m/usr/local/lib/python3.6/dist-packages/tensorflow/python/eager/def_function.py\u001b[0m in \u001b[0;36m__call__\u001b[0;34m(self, *args, **kwds)\u001b[0m\n\u001b[1;32m    778\u001b[0m       \u001b[0;32melse\u001b[0m\u001b[0;34m:\u001b[0m\u001b[0;34m\u001b[0m\u001b[0;34m\u001b[0m\u001b[0m\n\u001b[1;32m    779\u001b[0m         \u001b[0mcompiler\u001b[0m \u001b[0;34m=\u001b[0m \u001b[0;34m\"nonXla\"\u001b[0m\u001b[0;34m\u001b[0m\u001b[0;34m\u001b[0m\u001b[0m\n\u001b[0;32m--> 780\u001b[0;31m         \u001b[0mresult\u001b[0m \u001b[0;34m=\u001b[0m \u001b[0mself\u001b[0m\u001b[0;34m.\u001b[0m\u001b[0m_call\u001b[0m\u001b[0;34m(\u001b[0m\u001b[0;34m*\u001b[0m\u001b[0margs\u001b[0m\u001b[0;34m,\u001b[0m \u001b[0;34m**\u001b[0m\u001b[0mkwds\u001b[0m\u001b[0;34m)\u001b[0m\u001b[0;34m\u001b[0m\u001b[0;34m\u001b[0m\u001b[0m\n\u001b[0m\u001b[1;32m    781\u001b[0m \u001b[0;34m\u001b[0m\u001b[0m\n\u001b[1;32m    782\u001b[0m       \u001b[0mnew_tracing_count\u001b[0m \u001b[0;34m=\u001b[0m \u001b[0mself\u001b[0m\u001b[0;34m.\u001b[0m\u001b[0m_get_tracing_count\u001b[0m\u001b[0;34m(\u001b[0m\u001b[0;34m)\u001b[0m\u001b[0;34m\u001b[0m\u001b[0;34m\u001b[0m\u001b[0m\n",
            "\u001b[0;32m/usr/local/lib/python3.6/dist-packages/tensorflow/python/eager/def_function.py\u001b[0m in \u001b[0;36m_call\u001b[0;34m(self, *args, **kwds)\u001b[0m\n\u001b[1;32m    805\u001b[0m       \u001b[0;31m# In this case we have created variables on the first call, so we run the\u001b[0m\u001b[0;34m\u001b[0m\u001b[0;34m\u001b[0m\u001b[0;34m\u001b[0m\u001b[0m\n\u001b[1;32m    806\u001b[0m       \u001b[0;31m# defunned version which is guaranteed to never create variables.\u001b[0m\u001b[0;34m\u001b[0m\u001b[0;34m\u001b[0m\u001b[0;34m\u001b[0m\u001b[0m\n\u001b[0;32m--> 807\u001b[0;31m       \u001b[0;32mreturn\u001b[0m \u001b[0mself\u001b[0m\u001b[0;34m.\u001b[0m\u001b[0m_stateless_fn\u001b[0m\u001b[0;34m(\u001b[0m\u001b[0;34m*\u001b[0m\u001b[0margs\u001b[0m\u001b[0;34m,\u001b[0m \u001b[0;34m**\u001b[0m\u001b[0mkwds\u001b[0m\u001b[0;34m)\u001b[0m  \u001b[0;31m# pylint: disable=not-callable\u001b[0m\u001b[0;34m\u001b[0m\u001b[0;34m\u001b[0m\u001b[0m\n\u001b[0m\u001b[1;32m    808\u001b[0m     \u001b[0;32melif\u001b[0m \u001b[0mself\u001b[0m\u001b[0;34m.\u001b[0m\u001b[0m_stateful_fn\u001b[0m \u001b[0;32mis\u001b[0m \u001b[0;32mnot\u001b[0m \u001b[0;32mNone\u001b[0m\u001b[0;34m:\u001b[0m\u001b[0;34m\u001b[0m\u001b[0;34m\u001b[0m\u001b[0m\n\u001b[1;32m    809\u001b[0m       \u001b[0;31m# Release the lock early so that multiple threads can perform the call\u001b[0m\u001b[0;34m\u001b[0m\u001b[0;34m\u001b[0m\u001b[0;34m\u001b[0m\u001b[0m\n",
            "\u001b[0;32m/usr/local/lib/python3.6/dist-packages/tensorflow/python/eager/function.py\u001b[0m in \u001b[0;36m__call__\u001b[0;34m(self, *args, **kwargs)\u001b[0m\n\u001b[1;32m   2827\u001b[0m     \u001b[0;32mwith\u001b[0m \u001b[0mself\u001b[0m\u001b[0;34m.\u001b[0m\u001b[0m_lock\u001b[0m\u001b[0;34m:\u001b[0m\u001b[0;34m\u001b[0m\u001b[0;34m\u001b[0m\u001b[0m\n\u001b[1;32m   2828\u001b[0m       \u001b[0mgraph_function\u001b[0m\u001b[0;34m,\u001b[0m \u001b[0margs\u001b[0m\u001b[0;34m,\u001b[0m \u001b[0mkwargs\u001b[0m \u001b[0;34m=\u001b[0m \u001b[0mself\u001b[0m\u001b[0;34m.\u001b[0m\u001b[0m_maybe_define_function\u001b[0m\u001b[0;34m(\u001b[0m\u001b[0margs\u001b[0m\u001b[0;34m,\u001b[0m \u001b[0mkwargs\u001b[0m\u001b[0;34m)\u001b[0m\u001b[0;34m\u001b[0m\u001b[0;34m\u001b[0m\u001b[0m\n\u001b[0;32m-> 2829\u001b[0;31m     \u001b[0;32mreturn\u001b[0m \u001b[0mgraph_function\u001b[0m\u001b[0;34m.\u001b[0m\u001b[0m_filtered_call\u001b[0m\u001b[0;34m(\u001b[0m\u001b[0margs\u001b[0m\u001b[0;34m,\u001b[0m \u001b[0mkwargs\u001b[0m\u001b[0;34m)\u001b[0m  \u001b[0;31m# pylint: disable=protected-access\u001b[0m\u001b[0;34m\u001b[0m\u001b[0;34m\u001b[0m\u001b[0m\n\u001b[0m\u001b[1;32m   2830\u001b[0m \u001b[0;34m\u001b[0m\u001b[0m\n\u001b[1;32m   2831\u001b[0m   \u001b[0;34m@\u001b[0m\u001b[0mproperty\u001b[0m\u001b[0;34m\u001b[0m\u001b[0;34m\u001b[0m\u001b[0m\n",
            "\u001b[0;32m/usr/local/lib/python3.6/dist-packages/tensorflow/python/eager/function.py\u001b[0m in \u001b[0;36m_filtered_call\u001b[0;34m(self, args, kwargs, cancellation_manager)\u001b[0m\n\u001b[1;32m   1846\u001b[0m                            resource_variable_ops.BaseResourceVariable))],\n\u001b[1;32m   1847\u001b[0m         \u001b[0mcaptured_inputs\u001b[0m\u001b[0;34m=\u001b[0m\u001b[0mself\u001b[0m\u001b[0;34m.\u001b[0m\u001b[0mcaptured_inputs\u001b[0m\u001b[0;34m,\u001b[0m\u001b[0;34m\u001b[0m\u001b[0;34m\u001b[0m\u001b[0m\n\u001b[0;32m-> 1848\u001b[0;31m         cancellation_manager=cancellation_manager)\n\u001b[0m\u001b[1;32m   1849\u001b[0m \u001b[0;34m\u001b[0m\u001b[0m\n\u001b[1;32m   1850\u001b[0m   \u001b[0;32mdef\u001b[0m \u001b[0m_call_flat\u001b[0m\u001b[0;34m(\u001b[0m\u001b[0mself\u001b[0m\u001b[0;34m,\u001b[0m \u001b[0margs\u001b[0m\u001b[0;34m,\u001b[0m \u001b[0mcaptured_inputs\u001b[0m\u001b[0;34m,\u001b[0m \u001b[0mcancellation_manager\u001b[0m\u001b[0;34m=\u001b[0m\u001b[0;32mNone\u001b[0m\u001b[0;34m)\u001b[0m\u001b[0;34m:\u001b[0m\u001b[0;34m\u001b[0m\u001b[0;34m\u001b[0m\u001b[0m\n",
            "\u001b[0;32m/usr/local/lib/python3.6/dist-packages/tensorflow/python/eager/function.py\u001b[0m in \u001b[0;36m_call_flat\u001b[0;34m(self, args, captured_inputs, cancellation_manager)\u001b[0m\n\u001b[1;32m   1922\u001b[0m       \u001b[0;31m# No tape is watching; skip to running the function.\u001b[0m\u001b[0;34m\u001b[0m\u001b[0;34m\u001b[0m\u001b[0;34m\u001b[0m\u001b[0m\n\u001b[1;32m   1923\u001b[0m       return self._build_call_outputs(self._inference_function.call(\n\u001b[0;32m-> 1924\u001b[0;31m           ctx, args, cancellation_manager=cancellation_manager))\n\u001b[0m\u001b[1;32m   1925\u001b[0m     forward_backward = self._select_forward_and_backward_functions(\n\u001b[1;32m   1926\u001b[0m         \u001b[0margs\u001b[0m\u001b[0;34m,\u001b[0m\u001b[0;34m\u001b[0m\u001b[0;34m\u001b[0m\u001b[0m\n",
            "\u001b[0;32m/usr/local/lib/python3.6/dist-packages/tensorflow/python/eager/function.py\u001b[0m in \u001b[0;36mcall\u001b[0;34m(self, ctx, args, cancellation_manager)\u001b[0m\n\u001b[1;32m    548\u001b[0m               \u001b[0minputs\u001b[0m\u001b[0;34m=\u001b[0m\u001b[0margs\u001b[0m\u001b[0;34m,\u001b[0m\u001b[0;34m\u001b[0m\u001b[0;34m\u001b[0m\u001b[0m\n\u001b[1;32m    549\u001b[0m               \u001b[0mattrs\u001b[0m\u001b[0;34m=\u001b[0m\u001b[0mattrs\u001b[0m\u001b[0;34m,\u001b[0m\u001b[0;34m\u001b[0m\u001b[0;34m\u001b[0m\u001b[0m\n\u001b[0;32m--> 550\u001b[0;31m               ctx=ctx)\n\u001b[0m\u001b[1;32m    551\u001b[0m         \u001b[0;32melse\u001b[0m\u001b[0;34m:\u001b[0m\u001b[0;34m\u001b[0m\u001b[0;34m\u001b[0m\u001b[0m\n\u001b[1;32m    552\u001b[0m           outputs = execute.execute_with_cancellation(\n",
            "\u001b[0;32m/usr/local/lib/python3.6/dist-packages/tensorflow/python/eager/execute.py\u001b[0m in \u001b[0;36mquick_execute\u001b[0;34m(op_name, num_outputs, inputs, attrs, ctx, name)\u001b[0m\n\u001b[1;32m     58\u001b[0m     \u001b[0mctx\u001b[0m\u001b[0;34m.\u001b[0m\u001b[0mensure_initialized\u001b[0m\u001b[0;34m(\u001b[0m\u001b[0;34m)\u001b[0m\u001b[0;34m\u001b[0m\u001b[0;34m\u001b[0m\u001b[0m\n\u001b[1;32m     59\u001b[0m     tensors = pywrap_tfe.TFE_Py_Execute(ctx._handle, device_name, op_name,\n\u001b[0;32m---> 60\u001b[0;31m                                         inputs, attrs, num_outputs)\n\u001b[0m\u001b[1;32m     61\u001b[0m   \u001b[0;32mexcept\u001b[0m \u001b[0mcore\u001b[0m\u001b[0;34m.\u001b[0m\u001b[0m_NotOkStatusException\u001b[0m \u001b[0;32mas\u001b[0m \u001b[0me\u001b[0m\u001b[0;34m:\u001b[0m\u001b[0;34m\u001b[0m\u001b[0;34m\u001b[0m\u001b[0m\n\u001b[1;32m     62\u001b[0m     \u001b[0;32mif\u001b[0m \u001b[0mname\u001b[0m \u001b[0;32mis\u001b[0m \u001b[0;32mnot\u001b[0m \u001b[0;32mNone\u001b[0m\u001b[0;34m:\u001b[0m\u001b[0;34m\u001b[0m\u001b[0;34m\u001b[0m\u001b[0m\n",
            "\u001b[0;31mKeyboardInterrupt\u001b[0m: "
          ]
        }
      ]
    },
    {
      "cell_type": "code",
      "metadata": {
        "colab": {
          "base_uri": "https://localhost:8080/"
        },
        "id": "P9VQ1-iWMTgm",
        "outputId": "77275f29-b2c2-4f13-bc84-50f2bbdecdc4"
      },
      "source": [
        "all=[]\r\n",
        "for i, label in val_iter4:\r\n",
        "  inputs1=[]\r\n",
        "  inputs2=[]\r\n",
        "  inputs3=[]\r\n",
        "  inputs4=[]\r\n",
        "  # print(label)\r\n",
        "  for j in range(batch_size):\r\n",
        "    # print(i[0]['recipe_id'])\r\n",
        "\r\n",
        "    for l in range(4):\r\n",
        "      comb = [i[j]['image_list'][k] for k in i[j]['choice_list'][l]]\r\n",
        "      inputs1.append(comb[0])\r\n",
        "      inputs2.append(comb[1])\r\n",
        "      inputs3.append(comb[2])\r\n",
        "      inputs4.append(comb[3])\r\n",
        "  inputs1 = tf.convert_to_tensor(inputs1)\r\n",
        "  inputs2 = tf.convert_to_tensor(inputs2)\r\n",
        "  inputs3 = tf.convert_to_tensor(inputs3)\r\n",
        "  inputs4 = tf.convert_to_tensor(inputs4)\r\n",
        "  answer = model.predict([inputs1,inputs2,inputs3,inputs4])\r\n",
        "  array = []\r\n",
        "  for k in range(0,len(answer),4):\r\n",
        "    m = answer[k][1]\r\n",
        "    index=0\r\n",
        "    for l in range(1,4):\r\n",
        "      if m<answer[k+l][1]:\r\n",
        "        m=answer[k+l][1]\r\n",
        "        index=l\r\n",
        "    array.append(index)\r\n",
        "  correct = 0\r\n",
        "  for j in range(batch_size):\r\n",
        "    if label[j]==array[j]:\r\n",
        "      correct+=1\r\n",
        "  all.append(correct/batch_size)\r\n",
        "  print(sum(all)/len(all))\r\n",
        "  "
      ],
      "execution_count": 14,
      "outputs": [
        {
          "output_type": "stream",
          "text": [
            "0.1875\n",
            "0.1875\n",
            "0.20833333333333334\n",
            "0.21875\n",
            "0.25\n",
            "0.2708333333333333\n",
            "0.25892857142857145\n",
            "0.2578125\n",
            "0.2638888888888889\n",
            "0.26875\n",
            "0.26704545454545453\n",
            "0.2916666666666667\n",
            "0.27884615384615385\n",
            "0.28125\n",
            "0.2916666666666667\n",
            "0.29296875\n",
            "0.29411764705882354\n",
            "0.2951388888888889\n",
            "0.29605263157894735\n",
            "0.303125\n",
            "0.3125\n",
            "0.3153409090909091\n",
            "0.3179347826086957\n",
            "0.3255208333333333\n",
            "0.3225\n",
            "0.31971153846153844\n",
            "0.3125\n",
            "0.3080357142857143\n",
            "0.3146551724137931\n",
            "0.31666666666666665\n",
            "0.3125\n",
            "0.31640625\n",
            "0.3143939393939394\n",
            "0.3088235294117647\n",
            "0.3107142857142857\n",
            "0.3055555555555556\n",
            "0.30405405405405406\n",
            "0.3026315789473684\n",
            "0.30448717948717946\n",
            "0.30625\n",
            "0.31097560975609756\n",
            "0.30952380952380953\n",
            "0.3066860465116279\n",
            "0.3039772727272727\n",
            "0.3\n",
            "0.3016304347826087\n",
            "0.2978723404255319\n",
            "0.29296875\n",
            "0.29336734693877553\n",
            "0.29375\n",
            "0.29044117647058826\n",
            "0.2956730769230769\n",
            "0.29952830188679247\n",
            "0.2986111111111111\n",
            "0.29545454545454547\n",
            "0.29575892857142855\n",
            "0.2982456140350877\n",
            "0.2984913793103448\n"
          ],
          "name": "stdout"
        }
      ]
    },
    {
      "cell_type": "code",
      "metadata": {
        "id": "MCgaF-bDIgg_"
      },
      "source": [
        ""
      ],
      "execution_count": null,
      "outputs": []
    },
    {
      "cell_type": "code",
      "metadata": {
        "id": "-2Lt9WOSLc0t"
      },
      "source": [
        ""
      ],
      "execution_count": null,
      "outputs": []
    },
    {
      "cell_type": "code",
      "metadata": {
        "id": "eYz8h7wpRcNC"
      },
      "source": [
        ""
      ],
      "execution_count": null,
      "outputs": []
    },
    {
      "cell_type": "code",
      "metadata": {
        "id": "BEBVWErWLySm"
      },
      "source": [
        ""
      ],
      "execution_count": null,
      "outputs": []
    },
    {
      "cell_type": "code",
      "metadata": {
        "id": "DKm17I9ECHm7"
      },
      "source": [
        ""
      ],
      "execution_count": null,
      "outputs": []
    },
    {
      "cell_type": "code",
      "metadata": {
        "id": "Ubq1jeVwGWmE"
      },
      "source": [
        ""
      ],
      "execution_count": null,
      "outputs": []
    },
    {
      "cell_type": "code",
      "metadata": {
        "id": "o8UQuBh-c_KQ"
      },
      "source": [
        ""
      ],
      "execution_count": null,
      "outputs": []
    }
  ]
}