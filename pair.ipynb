{
  "nbformat": 4,
  "nbformat_minor": 0,
  "metadata": {
    "colab": {
      "name": "pair.ipynb",
      "provenance": [],
      "authorship_tag": "ABX9TyN2mvCx1qvGI3H3lxC/v5xd",
      "include_colab_link": true
    },
    "kernelspec": {
      "name": "python3",
      "display_name": "Python 3"
    }
  },
  "cells": [
    {
      "cell_type": "markdown",
      "metadata": {
        "id": "view-in-github",
        "colab_type": "text"
      },
      "source": [
        "<a href=\"https://colab.research.google.com/github/imbalzy/RecipeQA-FInal-Project-2470/blob/main/pair.ipynb\" target=\"_parent\"><img src=\"https://colab.research.google.com/assets/colab-badge.svg\" alt=\"Open In Colab\"/></a>"
      ]
    },
    {
      "cell_type": "code",
      "metadata": {
        "colab": {
          "base_uri": "https://localhost:8080/"
        },
        "id": "cPoK-Ir4nAfZ",
        "outputId": "1def7f9b-dab0-4ebf-fe46-1c6808bfc93e"
      },
      "source": [
        "from google.colab import drive\r\n",
        "drive.mount('/content/gdrive')\r\n",
        "import os\r\n",
        "os.environ['KAGGLE_CONFIG_DIR'] = \"/content\"\r\n",
        "!cp \"/content/gdrive/My Drive/Kaggle/kaggle.json\" ."
      ],
      "execution_count": 1,
      "outputs": [
        {
          "output_type": "stream",
          "text": [
            "Mounted at /content/gdrive\n"
          ],
          "name": "stdout"
        }
      ]
    },
    {
      "cell_type": "code",
      "metadata": {
        "colab": {
          "base_uri": "https://localhost:8080/"
        },
        "id": "W2Gb68udnGcs",
        "outputId": "3904b936-677c-4f15-87f4-877619689e46"
      },
      "source": [
        "!kaggle datasets download -d jeromeblanchet/recipeqa-nlp-dataset\r\n",
        "!unzip recipeqa-nlp-dataset.zip -d data/ > /dev/null\r\n",
        "\r\n",
        "!wget http://nlp.stanford.edu/data/glove.6B.zip\r\n",
        "!unzip -q glove.6B.zip"
      ],
      "execution_count": 2,
      "outputs": [
        {
          "output_type": "stream",
          "text": [
            "Downloading recipeqa-nlp-dataset.zip to /content\n",
            "100% 2.54G/2.55G [00:24<00:00, 48.6MB/s]\n",
            "100% 2.55G/2.55G [00:24<00:00, 111MB/s] \n",
            "--2020-12-08 18:30:42--  http://nlp.stanford.edu/data/glove.6B.zip\n",
            "Resolving nlp.stanford.edu (nlp.stanford.edu)... 171.64.67.140\n",
            "Connecting to nlp.stanford.edu (nlp.stanford.edu)|171.64.67.140|:80... connected.\n",
            "HTTP request sent, awaiting response... 302 Found\n",
            "Location: https://nlp.stanford.edu/data/glove.6B.zip [following]\n",
            "--2020-12-08 18:30:42--  https://nlp.stanford.edu/data/glove.6B.zip\n",
            "Connecting to nlp.stanford.edu (nlp.stanford.edu)|171.64.67.140|:443... connected.\n",
            "HTTP request sent, awaiting response... 301 Moved Permanently\n",
            "Location: http://downloads.cs.stanford.edu/nlp/data/glove.6B.zip [following]\n",
            "--2020-12-08 18:30:43--  http://downloads.cs.stanford.edu/nlp/data/glove.6B.zip\n",
            "Resolving downloads.cs.stanford.edu (downloads.cs.stanford.edu)... 171.64.64.22\n",
            "Connecting to downloads.cs.stanford.edu (downloads.cs.stanford.edu)|171.64.64.22|:80... connected.\n",
            "HTTP request sent, awaiting response... 200 OK\n",
            "Length: 862182613 (822M) [application/zip]\n",
            "Saving to: ‘glove.6B.zip’\n",
            "\n",
            "glove.6B.zip        100%[===================>] 822.24M  2.15MB/s    in 6m 27s  \n",
            "\n",
            "2020-12-08 18:37:10 (2.12 MB/s) - ‘glove.6B.zip’ saved [862182613/862182613]\n",
            "\n"
          ],
          "name": "stdout"
        }
      ]
    },
    {
      "cell_type": "code",
      "metadata": {
        "id": "dXjYra88nIAT"
      },
      "source": [
        "import numpy as np\r\n",
        "import tensorflow as tf\r\n",
        "from tensorflow import keras\r\n",
        "from preprocessrecipeqa import *"
      ],
      "execution_count": 30,
      "outputs": []
    },
    {
      "cell_type": "code",
      "metadata": {
        "id": "rNqXBYyMAH4p"
      },
      "source": [
        "batch_size = 1\r\n",
        "(train_iter1, train_iter2, train_iter3, train_iter4), (test_iter1, test_iter2, test_iter3, test_iter4), (val_iter1, val_iter2, val_iter3, val_iter4), embedding_index, word_index = preprocess(batch_size)\r\n"
      ],
      "execution_count": 7,
      "outputs": []
    },
    {
      "cell_type": "code",
      "metadata": {
        "id": "D0Vsl1-lXPyD"
      },
      "source": [
        "from matplotlib import pyplot"
      ],
      "execution_count": 76,
      "outputs": []
    },
    {
      "cell_type": "code",
      "metadata": {
        "colab": {
          "base_uri": "https://localhost:8080/"
        },
        "id": "1Jk6yckmGuV9",
        "outputId": "e47382ac-26d3-47f7-8708-fc8ca45ed784"
      },
      "source": [
        "for i, label in train_iter1:\r\n",
        "  for j in i[0]: print(j)\r\n",
        "  # print(i[0]['recipe_id'])\r\n",
        "  for k in i[0]['context']:\r\n",
        "    print(k['body'])\r\n",
        "    print(len(k['images']))\r\n",
        "  break"
      ],
      "execution_count": 82,
      "outputs": [
        {
          "output_type": "stream",
          "text": [
            "recipe_id\n",
            "context\n",
            "choice_list\n",
            "question\n",
            "[17861, 23909, 3275, 12204, 3859, 10587, 15623, 25089, 19903, 11172, 911, 22875, 10587, 18154, 24410, 5681, 2375, 1824, 22097, 27586, 12604, 6865, 9034, 5267, 16864, 5662, 9034, 3388, 7159, 3275, 17156, 28078, 9352, 25423, 22612, 8979, 25043, 9034, 10755, 24850, 15992, 2061, 3469, 14250, 29039, 7235, 17268, 27142, 16762, 28294, 19903, 22612, 8979, 2375, 17156, 13959, 25043, 6015, 24540, 25575, 3275, 13074, 25423, 12468]\n",
            "3\n",
            "[8236, 1824, 22097, 6345, 1671, 11511, 1461, 15491, 21360, 24751, 23120, 19903, 11172, 911, 10305, 16902, 16265, 17130, 17438, 4911, 9558, 10587, 12180]\n",
            "2\n",
            "[21968, 15992, 24540, 6345, 29039, 25081, 11275, 17438, 19903, 25423, 22875, 10587, 18154, 24410, 16265, 2375, 2047, 12604, 24741, 24410, 1461, 26876, 19903, 25423, 541, 13302, 10587, 19903, 13074, 541, 22085, 10587, 12804, 16864, 15549, 19903, 25423, 3966, 19903, 356, 19903, 4911, 2858, 12310, 26032, 2406, 6345, 13074, 12604, 17130, 9034, 26032, 27142, 15491, 27586, 15491, 29022, 20209, 26032, 2406, 6345, 13074, 5997, 3966, 12310, 26032, 2406, 6345, 3275]\n",
            "2\n",
            "[17130, 17438, 9034, 27801, 26343, 10587, 26917, 29039, 3275, 13074, 25423]\n",
            "1\n"
          ],
          "name": "stdout"
        }
      ]
    },
    {
      "cell_type": "code",
      "metadata": {
        "id": "MCgaF-bDIgg_"
      },
      "source": [
        "def define_model():\r\n",
        "  img_inputs = keras.Input(shape=(224, 224, 3))\r\n",
        "  l1 = keras.layers.Conv2D(filters = 64, kernel_size = 5, strides=(2, 2), padding='same')\r\n",
        "  x = l1(img_inputs)\r\n",
        "  l2 = keras.layers.Conv2D(filters = 64, kernel_size = 5, strides=(2, 2), padding='same')\r\n",
        "  x = l2(x)\r\n",
        "  l3 = keras.layers.Conv2D(filters = 64, kernel_size = 5, strides=(2, 2), padding='same')\r\n",
        "  x = l3(x)\r\n",
        "  l4 = keras.layers.Conv2D(filters = 64, kernel_size = 5, strides=(2, 2), padding='same')\r\n",
        "  x = l4(x)\r\n",
        "  flatten = keras.layers.Flatten()\r\n",
        "  x = flatten(x)\r\n",
        "  densex = keras.layers.Dense(100,activation='tanh')\r\n",
        "  x = densex(x)\r\n",
        "  text_inputs = keras.Input(shape = (None,100))\r\n",
        "  lstm = tf.keras.layers.LSTM(100)\r\n",
        "\r\n",
        "  densey =tf.keras.layers.Dense(100,activation='tanh')\r\n",
        "  y = densey(lstm(text_inputs))\r\n",
        "  \r\n",
        "  concat = keras.layers.Concatenate()\r\n",
        "  fc1 = keras.layers.Dense(200)\r\n",
        "  z = fc1(concat([x,y]))\r\n",
        "  fc2 = keras.layers.Dense(2)\r\n",
        "  outputs = fc2(z)\r\n",
        "  model = tf.keras.Model(inputs=[text_inputs,img_inputs], outputs=outputs)\r\n",
        "\r\n",
        "  model.compile(loss='binary_crossentropy', optimizer='adam', metrics=['accuracy'])\r\n",
        "  return model"
      ],
      "execution_count": 58,
      "outputs": []
    },
    {
      "cell_type": "code",
      "metadata": {
        "id": "-2Lt9WOSLc0t"
      },
      "source": [
        "model = define_model()"
      ],
      "execution_count": 59,
      "outputs": []
    },
    {
      "cell_type": "code",
      "metadata": {
        "colab": {
          "base_uri": "https://localhost:8080/"
        },
        "id": "eYz8h7wpRcNC",
        "outputId": "91bfe0b0-e565-4292-cb87-be9dd3d1ce33"
      },
      "source": [
        "model.summary()"
      ],
      "execution_count": 65,
      "outputs": [
        {
          "output_type": "stream",
          "text": [
            "Model: \"functional_11\"\n",
            "__________________________________________________________________________________________________\n",
            "Layer (type)                    Output Shape         Param #     Connected to                     \n",
            "==================================================================================================\n",
            "input_21 (InputLayer)           [(None, 224, 224, 3) 0                                            \n",
            "__________________________________________________________________________________________________\n",
            "conv2d_70 (Conv2D)              (None, 112, 112, 64) 4864        input_21[0][0]                   \n",
            "__________________________________________________________________________________________________\n",
            "conv2d_71 (Conv2D)              (None, 56, 56, 64)   102464      conv2d_70[0][0]                  \n",
            "__________________________________________________________________________________________________\n",
            "conv2d_72 (Conv2D)              (None, 28, 28, 64)   102464      conv2d_71[0][0]                  \n",
            "__________________________________________________________________________________________________\n",
            "conv2d_73 (Conv2D)              (None, 14, 14, 64)   102464      conv2d_72[0][0]                  \n",
            "__________________________________________________________________________________________________\n",
            "input_22 (InputLayer)           [(None, None, 100)]  0                                            \n",
            "__________________________________________________________________________________________________\n",
            "flatten_18 (Flatten)            (None, 12544)        0           conv2d_73[0][0]                  \n",
            "__________________________________________________________________________________________________\n",
            "lstm_1 (LSTM)                   (None, 100)          80400       input_22[0][0]                   \n",
            "__________________________________________________________________________________________________\n",
            "dense_44 (Dense)                (None, 100)          1254500     flatten_18[0][0]                 \n",
            "__________________________________________________________________________________________________\n",
            "dense_45 (Dense)                (None, 100)          10100       lstm_1[0][0]                     \n",
            "__________________________________________________________________________________________________\n",
            "concatenate_9 (Concatenate)     (None, 200)          0           dense_44[0][0]                   \n",
            "                                                                 dense_45[0][0]                   \n",
            "__________________________________________________________________________________________________\n",
            "dense_46 (Dense)                (None, 200)          40200       concatenate_9[0][0]              \n",
            "__________________________________________________________________________________________________\n",
            "dense_47 (Dense)                (None, 2)            402         dense_46[0][0]                   \n",
            "==================================================================================================\n",
            "Total params: 1,697,858\n",
            "Trainable params: 1,697,858\n",
            "Non-trainable params: 0\n",
            "__________________________________________________________________________________________________\n"
          ],
          "name": "stdout"
        }
      ]
    },
    {
      "cell_type": "code",
      "metadata": {
        "colab": {
          "base_uri": "https://localhost:8080/"
        },
        "id": "BEBVWErWLySm",
        "outputId": "ad09e266-4d3c-4b48-c0c1-f4d1f5d579b1"
      },
      "source": [
        "model.predict([np.ones([1,10,100]),np.ones([1,224,224,3])])"
      ],
      "execution_count": 66,
      "outputs": [
        {
          "output_type": "execute_result",
          "data": {
            "text/plain": [
              "array([[0.2887484, 0.1946048]], dtype=float32)"
            ]
          },
          "metadata": {
            "tags": []
          },
          "execution_count": 66
        }
      ]
    }
  ]
}