{
  "nbformat": 4,
  "nbformat_minor": 0,
  "metadata": {
    "colab": {
      "name": "2470 final.ipynb",
      "provenance": [],
      "collapsed_sections": [],
      "authorship_tag": "ABX9TyNktXT/vtjP8Th4QRaerEai",
      "include_colab_link": true
    },
    "kernelspec": {
      "name": "python3",
      "display_name": "Python 3"
    }
  },
  "cells": [
    {
      "cell_type": "markdown",
      "metadata": {
        "id": "view-in-github",
        "colab_type": "text"
      },
      "source": [
        "<a href=\"https://colab.research.google.com/github/imbalzy/RecipeQA-FInal-Project-2470/blob/main/2470_final_Bojun.ipynb\" target=\"_parent\"><img src=\"https://colab.research.google.com/assets/colab-badge.svg\" alt=\"Open In Colab\"/></a>"
      ]
    },
    {
      "cell_type": "markdown",
      "metadata": {
        "id": "h5ByemOKpTBc"
      },
      "source": [
        "The transformer model part\n"
      ]
    },
    {
      "cell_type": "code",
      "metadata": {
        "id": "JtG6v4WDpO8G"
      },
      "source": [
        "import numpy as np\n",
        "import tensorflow as tf\n",
        "\n",
        "class Model(tf.keras.Model):\n",
        "  def __init__(self, window_size, vocab_size):\n",
        "    super(model, self).__init__()\n",
        "    \n",
        "    self.window_size = window_size\n",
        "    self.batch_size = 1000\n",
        "    self.embedding_size = 64\n",
        "    self.optimizer = tf.keras.optimizers.Adam(learning_rate = 0.01)\n",
        "    \n",
        "    #rnn part of the model\n",
        "    self.word_embedding = tf.Variable(tf.random.truncated_normal([self.english_vocab_size, self.embedding_size], stddev = 0.1))\n",
        "    self.encoder = tf.keras.layers.LSTM(units = 200, return_sequences=True, return_state=True)\n",
        "    self.trans_dense = tf.keras.layers.dense(units = 200)\n",
        "\n",
        "    \n",
        "    # convolution part of model\n",
        "    self.conv1 = tf.keras.layers.Conv2D(filters = 16, kernel_size = 3, strides=(1, 1), padding='same')\n",
        "    self.conv2 = tf.keras.layers.Conv2D(filters = 16, kernel_size = 3, strides=(1, 1), padding='same')\n",
        "    self.conv3 = tf.keras.layers.Conv2D(filters = 32, kernel_size = 3, strides=(1, 1), padding='same')\n",
        "    self.conv4 = tf.keras.layers.Conv2D(filters = 32, kernel_size = 3, strides=(1, 1), padding='same')\n",
        "    self.conv5 = tf.keras.layers.Conv2D(filters = 64, kernel_size = 3, strides=(1, 1), padding='same')\n",
        "    self.conv6 = tf.keras.layers.Conv2D(filters = 64, kernel_size = 3, strides=(1, 1), padding='same')\n",
        "    self.conv_dense = tf.keras.layers.dense(units = 200)\n",
        "\n",
        "    #combined layers\n",
        "    self.combined_dense1 = tf.keras.layers.dense(units = 200)\n",
        "   \n",
        "\n",
        "   \n",
        "  @tf.function\n",
        "  def call(self, question, image):\n",
        "    question_embedding = tf.nn.embedding_lookup(self.word_embedding, question)\n",
        "\n",
        "\t\tdecoder_seq_output, encoder_final_memory, encoder_final_carry = self.encoder(question_embedding, initial_state = None)\n",
        "    lstm_output = self.trans_dense(decoder_seq_output)\n",
        "\n",
        "\n",
        "    image_output = self.conv1(image)\n",
        "    image_output = self.conv2(image_output)\n",
        "    image_output = self.conv3(image_output)\n",
        "    image_output = self.conv4(image_output)\n",
        "    image_output = self.conv5(image_output)\n",
        "    image_output = self.conv6(image_output)\n",
        "    conv_image = self.conv_dense(image_output)\n",
        "\n",
        "    logits = lstm_output + conv_image\n",
        "\t\treturn logits\n",
        "\n",
        "  def loss(self, logits, labels):\n",
        "    return tf.reduce_mean(tf.nn.softmax_cross_entropy_with_logits(labels, logits))\n",
        "  \n",
        "  def accuracy(self, logits, labels):\n",
        "    correct_predictions = tf.equal(tf.argmax(logits, 1), tf.argmax(labels, 1))\n",
        "    return tf.reduce_mean(tf.cast(correct_predictions, tf.float32))\n"
      ],
      "execution_count": null,
      "outputs": []
    }
  ]
}