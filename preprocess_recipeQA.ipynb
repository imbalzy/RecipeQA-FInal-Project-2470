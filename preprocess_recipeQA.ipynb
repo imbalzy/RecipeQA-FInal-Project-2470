{
  "nbformat": 4,
  "nbformat_minor": 0,
  "metadata": {
    "colab": {
      "name": "preprocess-recipeQA",
      "provenance": [],
      "collapsed_sections": [],
      "authorship_tag": "ABX9TyPAcLFaZtyxJkPoWETi7EmP",
      "include_colab_link": true
    },
    "kernelspec": {
      "name": "python3",
      "display_name": "Python 3"
    },
    "accelerator": "GPU"
  },
  "cells": [
    {
      "cell_type": "markdown",
      "metadata": {
        "id": "view-in-github",
        "colab_type": "text"
      },
      "source": [
        "<a href=\"https://colab.research.google.com/github/imbalzy/RecipeQA-FInal-Project-2470/blob/main/preprocess_recipeQA.ipynb\" target=\"_parent\"><img src=\"https://colab.research.google.com/assets/colab-badge.svg\" alt=\"Open In Colab\"/></a>"
      ]
    },
    {
      "cell_type": "code",
      "metadata": {
        "id": "lc_xt_0EnLjC",
        "outputId": "49198e85-8fb7-44ea-82a1-9d07f5b88225",
        "colab": {
          "base_uri": "https://localhost:8080/"
        }
      },
      "source": [
        "from google.colab import drive\n",
        "drive.mount('/content/gdrive')\n",
        "import os\n",
        "os.environ['KAGGLE_CONFIG_DIR'] = \"/content\"\n",
        "!cp \"/content/gdrive/My Drive/Kaggle/kaggle.json\" ."
      ],
      "execution_count": 1,
      "outputs": [
        {
          "output_type": "stream",
          "text": [
            "Mounted at /content/gdrive\n"
          ],
          "name": "stdout"
        }
      ]
    },
    {
      "cell_type": "code",
      "metadata": {
        "id": "ZuqEJgQvnOTn",
        "outputId": "daf9b1e6-0abb-4822-a1d4-d4189cb2370f",
        "colab": {
          "base_uri": "https://localhost:8080/"
        }
      },
      "source": [
        "!kaggle datasets download -d jeromeblanchet/recipeqa-nlp-dataset\n",
        "!unzip recipeqa-nlp-dataset.zip -d data/ > /dev/null"
      ],
      "execution_count": 2,
      "outputs": [
        {
          "output_type": "stream",
          "text": [
            "Downloading recipeqa-nlp-dataset.zip to /content\n",
            "100% 2.54G/2.55G [00:37<00:00, 27.3MB/s]\n",
            "100% 2.55G/2.55G [00:37<00:00, 72.4MB/s]\n"
          ],
          "name": "stdout"
        }
      ]
    },
    {
      "cell_type": "code",
      "metadata": {
        "id": "DOw7DHwq_Qg7"
      },
      "source": [
        "import json\n",
        "import numpy as np\n",
        "import tensorflow as tf\n",
        "\n",
        "def read_file(file_name):\n",
        "  with open(file_name) as f:\n",
        "    data = json.load(f)['data']\n",
        "  textual_cloze = [item for item in data if item[\"task\"]==\"textual_cloze\"]\n",
        "  visual_cloze = [item for item in data if item[\"task\"]==\"visual_cloze\"]\n",
        "  visual_coherence = [item for item in data if item[\"task\"]==\"visual_coherence\"]\n",
        "  visual_ordering = [item for item in data if item[\"task\"]==\"visual_ordering\"]\n",
        "  return textual_cloze, visual_cloze, visual_coherence, visual_ordering"
      ],
      "execution_count": 13,
      "outputs": []
    },
    {
      "cell_type": "code",
      "metadata": {
        "id": "DGsi8uMkB3vJ"
      },
      "source": [
        "def delete_keys(dataset):\n",
        "  if (dataset[0][\"task\"]==\"visual_coherence\"):\n",
        "    [data.pop(\"question\") for data in dataset]\n",
        "  if (dataset[0][\"task\"]==\"visual_ordering\"):\n",
        "    [data.pop(\"question\") for data in dataset]\n",
        "    for data in dataset:\n",
        "      order = data[\"choice_list\"][0]\n",
        "      data[\"image_list\"] = {0:order[0], 1:order[1], 2:order[2], 3:order[3]}\n",
        "      img2ind = {v:k for k,v in data[\"image_list\"].items()}\n",
        "      data[\"choice_list\"]=[[img2ind[img] for img in choice] for choice in data[\"choice_list\"]]\n",
        "  [[data.pop(key,None) for key in [\"context_modality\", \"split\", \"qid\", \"question_modality\", \"task\", \"question_text\"]] for data in dataset]\n",
        "  [[[step.pop(key) for key in [\"id\",\"videos\"]] for step in data['context']] for data in dataset]\n",
        "#  print(json.dumps(dataset[0], indent=4))"
      ],
      "execution_count": 14,
      "outputs": []
    },
    {
      "cell_type": "code",
      "metadata": {
        "id": "WHzzLeWAa8bH"
      },
      "source": [
        "def load_image(file_path):\n",
        "# Load image\n",
        "  image = tf.io.decode_jpeg(tf.io.read_file(file_path),channels=3)\n",
        "# Convert image to normalized float [0, 1]\n",
        "  image = tf.image.convert_image_dtype(image,tf.float32)\n",
        "# resize image\n",
        "  image = tf.image.resize(image, [256,256])\n",
        "# Rescale data to range (-1, 1)\n",
        "  image = (image - 0.5) * 2\n",
        "  return image"
      ],
      "execution_count": 15,
      "outputs": []
    },
    {
      "cell_type": "code",
      "metadata": {
        "id": "9vxBRb4lXzXa"
      },
      "source": [
        "from copy import deepcopy\n",
        "def data_iter(batch_size, dataset, task, split):\n",
        "  num_input = len(dataset)\n",
        "  np.random.shuffle(dataset)\n",
        "  for i in range(num_input // batch_size):\n",
        "    Xs = deepcopy(dataset[i*batch_size:(i+1)*batch_size])\n",
        "    Ys = [item.pop(\"answer\") for item in Xs]\n",
        "    if task==\"textual_cloze\":\n",
        "      for X in Xs:\n",
        "        for step in X[\"context\"]:\n",
        "          step[\"images\"] = [load_image(\"data/images/images-qa/\"+split+\"/images-qa/\"+item) for item in step[\"images\"]]\n",
        "    if task==\"visual_cloze\":\n",
        "      for X in Xs:\n",
        "        X[\"choice_list\"] = [load_image(\"data/images/images-qa/\"+split+\"/images-qa/\"+item) for item in X[\"choice_list\"]]\n",
        "        X[\"question\"] = [load_image(\"data/images/images-qa/\"+split+\"/images-qa/\"+item) if not item==\"@placeholder\" else \"@placeholder\"  for item in X[\"question\"]]\n",
        "    if task==\"visual_coherence\":\n",
        "      for X in Xs:\n",
        "        X[\"choice_list\"] = [load_image(\"data/images/images-qa/\"+split+\"/images-qa/\"+item) for item in X[\"choice_list\"]]\n",
        "    if task==\"visual_ordering\":\n",
        "      for X in Xs:\n",
        "        for k,v in X[\"image_list\"].items():\n",
        "          X[\"image_list\"][k] = load_image(\"data/images/images-qa/\"+split+\"/images-qa/\"+X[\"image_list\"][k])\n",
        "    yield Xs, Ys\n",
        "\n"
      ],
      "execution_count": 16,
      "outputs": []
    },
    {
      "cell_type": "code",
      "metadata": {
        "id": "sdayD-JWf_mT"
      },
      "source": [
        "def preprocess(batch_size, split):\n",
        "  textual_cloze, visual_cloze, visual_coherence, visual_ordering=read_file(\"data/\"+split+\" recipeqa.json\")\n",
        "  delete_keys(textual_cloze)\n",
        "  delete_keys(visual_cloze)\n",
        "  delete_keys(visual_coherence)\n",
        "  delete_keys(visual_ordering)\n",
        "  textual_cloze_iter = data_iter(batch_size, textual_cloze, \"textual_cloze\", split)\n",
        "  visual_cloze_iter = data_iter(batch_size, visual_cloze, \"visual_cloze\", split)\n",
        "  visual_coherence_iter = data_iter(batch_size, visual_coherence, \"visual_coherence\", split)\n",
        "  visual_ordering_iter = data_iter(batch_size, visual_ordering, \"visual_ordering\", split)\n",
        "  return textual_cloze_iter, visual_cloze_iter, visual_coherence_iter, visual_ordering_iter"
      ],
      "execution_count": 17,
      "outputs": []
    },
    {
      "cell_type": "code",
      "metadata": {
        "id": "UhE9wKi1rpt7"
      },
      "source": [
        "batch_size = 50\n",
        "train_it1, train_it2, train_it3, train_it4 = preprocess(batch_size, \"train\")\n",
        "test_it1, test_it2, test_it3, test_it4 = preprocess(batch_size, \"test\")\n",
        "val_it1, val_it2, val_it3, val_it4 = preprocess(batch_size, \"val\")"
      ],
      "execution_count": 18,
      "outputs": []
    },
    {
      "cell_type": "code",
      "metadata": {
        "id": "oHi57yldxI15",
        "outputId": "5005eea9-68a1-492d-a454-b8f78bf53377",
        "colab": {
          "base_uri": "https://localhost:8080/"
        }
      },
      "source": [
        "# Usage:\n",
        "for Xs, Ys in val_it2:\n",
        "  print(json.dumps(Xs[0], indent=4, default=lambda x:\"tf_tensor\"))\n",
        "  print(Ys[0])\n",
        "  break"
      ],
      "execution_count": 33,
      "outputs": [
        {
          "output_type": "stream",
          "text": [
            "{\n",
            "    \"recipe_id\": \"old-fashioned-macaroni-and-cheese\",\n",
            "    \"context\": [\n",
            "        {\n",
            "            \"body\": \"- 6 to 7 ounces raw elbow macaroni (about 2 cups)- 3 cups shredded cheddar cheese (about 3/4 pounds)- 1 jar of alfredo (Ragu~classic alfredo)- Milk- Salt- Pepper- 2-quart casserole dish- Measuring cups- Stove top pans\",\n",
            "            \"title\": \"Supplies Needed\"\n",
            "        },\n",
            "        {\n",
            "            \"body\": \"Preheat the oven to 375 degrees.\",\n",
            "            \"title\": \"Preheat Oven\"\n",
            "        },\n",
            "        {\n",
            "            \"body\": \"Boil the elbow noodles on a stove top as instructed on their package. Once they are done cooking place half of the amount of noodles into an ungreased 2-quart casserole dish.\",\n",
            "            \"title\": \"Cook Noodles\"\n",
            "        },\n",
            "        {\n",
            "            \"body\": \"On the side start making your white sauce, put the one full jar of alfredo(Ragu) into the oven to pan, fill the empty alfredo jar up with milk and pour that into the pan also. Bring to a boil over medium temperature... stir frequently. Once the milk and alfredo sauce is boiling, remove from heat and pour half of the white sauce over the macaroni noodles in the casserole dish and then stir gently.\",\n",
            "            \"title\": \"Prepare Your White Sauce\"\n",
            "        },\n",
            "        {\n",
            "            \"body\": \"Sprinkle half the amount of shredded cheese onto the macaroni and sauce in the dish and stir gently.\",\n",
            "            \"title\": \"Add Cheese\"\n",
            "        },\n",
            "        {\n",
            "            \"body\": \"You will then sprinkle the remaining noodles, sauce and cheese onto the dish, on top of each other (in the same order as steps 3-4) creating a layered effect. Stir gently once again. \",\n",
            "            \"title\": \"Layering\"\n",
            "        },\n",
            "        {\n",
            "            \"body\": \"On top of everything sprinkle more cheese until it is all covered (like the picture). You can also season the dish with salt and pepper to your liking, if wanted.\",\n",
            "            \"title\": \"Topping\"\n",
            "        },\n",
            "        {\n",
            "            \"body\": \"Cover the casserole dish with aluminum foil and bake for 30 minutes. Then once baked for 30 minutes, uncover the dish and bake for another 15 minutes.\",\n",
            "            \"title\": \"Bake the Dish in the Oven\"\n",
            "        },\n",
            "        {\n",
            "            \"body\": \"Once your delicious Old Fashioned Macaroni and Cheese is finished, you can serve it up. This dish serves 6 to 8 people.\",\n",
            "            \"title\": \"All Done!! Serve the Dish\"\n",
            "        }\n",
            "    ],\n",
            "    \"choice_list\": [\n",
            "        \"tf_tensor\",\n",
            "        \"tf_tensor\",\n",
            "        \"tf_tensor\",\n",
            "        \"tf_tensor\"\n",
            "    ],\n",
            "    \"question\": [\n",
            "        \"@placeholder\",\n",
            "        \"tf_tensor\",\n",
            "        \"tf_tensor\",\n",
            "        \"tf_tensor\"\n",
            "    ]\n",
            "}\n",
            "3\n"
          ],
          "name": "stdout"
        }
      ]
    },
    {
      "cell_type": "code",
      "metadata": {
        "id": "aWVcWbDbxfOq"
      },
      "source": [
        ""
      ],
      "execution_count": null,
      "outputs": []
    }
  ]
}